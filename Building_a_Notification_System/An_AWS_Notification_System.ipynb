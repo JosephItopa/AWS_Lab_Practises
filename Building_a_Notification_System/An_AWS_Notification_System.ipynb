{
 "cells": [
  {
   "cell_type": "markdown",
   "id": "0f717b86-ae61-4e0f-9f98-1288741bc1a7",
   "metadata": {},
   "source": [
    "### A Notification System\n",
    "\n",
    "1. Create a topic\n",
    "\n",
    "1. Make available the contact list\n",
    "\n",
    "1. Create topic for each services\n",
    "\n",
    "1. Subscribe each contact to their respective list"
   ]
  },
  {
   "cell_type": "code",
   "execution_count": 1,
   "id": "864cda2d-d9d2-4825-baa3-c0d03beb29c0",
   "metadata": {},
   "outputs": [],
   "source": [
    "import numpy as np\n",
    "import pandas as pd\n",
    "import boto3"
   ]
  },
  {
   "cell_type": "code",
   "execution_count": 2,
   "id": "728b2e5c-5848-47bd-a1cc-d29fe138edbc",
   "metadata": {},
   "outputs": [],
   "source": [
    "# programmable login details\n",
    "AWS_KEY_ID = \"***********\"\n",
    "AWS_SECRET = \"****************\""
   ]
  },
  {
   "cell_type": "code",
   "execution_count": null,
   "id": "dbda1ce4-4c95-46b7-b66f-a7479ac855d5",
   "metadata": {},
   "outputs": [],
   "source": [
    "# instantiate an s3 object using boto3\n",
    "sns = boto3.client('sns', region_name = 'us-east-1',\\\n",
    "                  aws_access_key_id = AWS_KEY_ID, aws_secret_access_key = AWS_SECRET)"
   ]
  },
  {
   "cell_type": "code",
   "execution_count": 4,
   "id": "8d0ab7e0-59e1-44b9-bc9b-30213506eb5c",
   "metadata": {},
   "outputs": [],
   "source": [
    "# create topics for notification service\n",
    "trash_arn = sns.create_topic(Name= \"Trash_notification\")[TopicArn]\n",
    "street_arn = sns.create_topic(Name= \"Street_notification\")[TopicArn]\n",
    "# import contact list\n",
    "# contacts = pd.read_csv('http://gid-staging.s3.amazonaws.com/contacts.csv')"
   ]
  },
  {
   "cell_type": "code",
   "execution_count": null,
   "id": "e80ee585-884a-4fab-afef-483d960008f8",
   "metadata": {},
   "outputs": [],
   "source": []
  },
  {
   "cell_type": "code",
   "execution_count": null,
   "id": "1d5d1c1b-870d-484a-badf-41e99e333a1c",
   "metadata": {},
   "outputs": [],
   "source": []
  },
  {
   "cell_type": "code",
   "execution_count": null,
   "id": "7db97cc4-a2f5-4de4-97a6-5ce1f2ed7c50",
   "metadata": {},
   "outputs": [],
   "source": []
  }
 ],
 "metadata": {
  "kernelspec": {
   "display_name": "Python 3 (ipykernel)",
   "language": "python",
   "name": "python3"
  },
  "language_info": {
   "codemirror_mode": {
    "name": "ipython",
    "version": 3
   },
   "file_extension": ".py",
   "mimetype": "text/x-python",
   "name": "python",
   "nbconvert_exporter": "python",
   "pygments_lexer": "ipython3",
   "version": "3.8.10"
  }
 },
 "nbformat": 4,
 "nbformat_minor": 5
}
