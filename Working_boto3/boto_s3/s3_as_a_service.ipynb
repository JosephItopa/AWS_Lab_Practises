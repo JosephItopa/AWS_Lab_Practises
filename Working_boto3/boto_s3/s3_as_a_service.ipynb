{
 "cells": [
  {
   "cell_type": "code",
   "execution_count": 17,
   "id": "0cb9b3e2-6c1c-4711-9288-6c57ea91ea76",
   "metadata": {},
   "outputs": [],
   "source": [
    "import numpy as np\n",
    "import pandas as pd\n",
    "import boto3"
   ]
  },
  {
   "cell_type": "code",
   "execution_count": 18,
   "id": "7a0d09ee-f3cd-4e80-8bec-821e21e8909c",
   "metadata": {},
   "outputs": [],
   "source": [
    "# programmable login details\n",
    "AWS_KEY_ID = \"\"\n",
    "AWS_SECRET = \"\""
   ]
  },
  {
   "cell_type": "code",
   "execution_count": 19,
   "id": "4bf83595-1322-4a56-82dc-8f99fd431ae5",
   "metadata": {},
   "outputs": [],
   "source": [
    "# instantiate an s3 object using boto3\n",
    "s3 = boto3.client('s3', region_name = 'us-east-1',\\\n",
    "                  aws_access_key_id = AWS_KEY_ID, aws_secret_access_key = AWS_SECRET)"
   ]
  },
  {
   "cell_type": "markdown",
   "id": "66debf47-4fde-4017-b74b-8e0f7dfe77de",
   "metadata": {},
   "source": [
    "### Getting started with buckets"
   ]
  },
  {
   "cell_type": "code",
   "execution_count": 20,
   "id": "df19a28e-1872-4386-b626-22b94f3e5518",
   "metadata": {},
   "outputs": [
    {
     "data": {
      "text/plain": [
       "[{'Name': 'appliance-energy-data-1',\n",
       "  'CreationDate': datetime.datetime(2021, 4, 27, 10, 39, 44, tzinfo=tzutc())},\n",
       " {'Name': 'aws-glue-scripts-348485141252-us-east-1',\n",
       "  'CreationDate': datetime.datetime(2021, 10, 13, 13, 28, 36, tzinfo=tzutc())},\n",
       " {'Name': 'aws-glue-temporary-348485141252-us-east-1',\n",
       "  'CreationDate': datetime.datetime(2021, 10, 13, 13, 28, 37, tzinfo=tzutc())},\n",
       " {'Name': 'dp-learning-data',\n",
       "  'CreationDate': datetime.datetime(2021, 5, 10, 11, 55, 54, tzinfo=tzutc())},\n",
       " {'Name': 'elasticbeanstalk-eu-west-3-348485141252',\n",
       "  'CreationDate': datetime.datetime(2021, 7, 21, 2, 37, 7, tzinfo=tzutc())},\n",
       " {'Name': 'energy-efficiency-data-1',\n",
       "  'CreationDate': datetime.datetime(2021, 4, 27, 10, 42, 21, tzinfo=tzutc())},\n",
       " {'Name': 'gluejob-data-byods',\n",
       "  'CreationDate': datetime.datetime(2021, 9, 29, 12, 5, 17, tzinfo=tzutc())},\n",
       " {'Name': 'gluejob-data-store',\n",
       "  'CreationDate': datetime.datetime(2021, 9, 29, 11, 52, 9, tzinfo=tzutc())},\n",
       " {'Name': 'image-classification-1',\n",
       "  'CreationDate': datetime.datetime(2021, 4, 27, 11, 7, 14, tzinfo=tzutc())},\n",
       " {'Name': 'insurance-data-output',\n",
       "  'CreationDate': datetime.datetime(2021, 10, 21, 13, 8, 25, tzinfo=tzutc())},\n",
       " {'Name': 'omdena-ml-deployment',\n",
       "  'CreationDate': datetime.datetime(2021, 9, 14, 14, 9, 5, tzinfo=tzutc())},\n",
       " {'Name': 'ourbucket1220',\n",
       "  'CreationDate': datetime.datetime(2021, 10, 2, 22, 45, 24, tzinfo=tzutc())},\n",
       " {'Name': 'todo-serverless-ca20',\n",
       "  'CreationDate': datetime.datetime(2021, 8, 22, 20, 44, 18, tzinfo=tzutc())},\n",
       " {'Name': 'yellow-data-extract-store',\n",
       "  'CreationDate': datetime.datetime(2021, 9, 29, 11, 41, 24, tzinfo=tzutc())},\n",
       " {'Name': 'yellow-data2021',\n",
       "  'CreationDate': datetime.datetime(2021, 9, 28, 9, 46, 39, tzinfo=tzutc())},\n",
       " {'Name': 'yellow-data2021-data-prep',\n",
       "  'CreationDate': datetime.datetime(2021, 9, 28, 14, 34, 16, tzinfo=tzutc())},\n",
       " {'Name': 'yellow-data2021r',\n",
       "  'CreationDate': datetime.datetime(2021, 9, 28, 14, 21, 50, tzinfo=tzutc())}]"
      ]
     },
     "execution_count": 20,
     "metadata": {},
     "output_type": "execute_result"
    }
   ],
   "source": [
    "# list buckets\n",
    "s3.list_buckets()['Buckets']"
   ]
  },
  {
   "cell_type": "code",
   "execution_count": 22,
   "id": "469ed4d9-4584-4d5b-839d-ccbc71fa6b15",
   "metadata": {},
   "outputs": [],
   "source": [
    "# create a bucket\n",
    "bucket = s3.create_bucket(Bucket = 'running-bucket')"
   ]
  },
  {
   "cell_type": "code",
   "execution_count": 23,
   "id": "fabce332-ffcf-4f27-a18c-6f78565cb622",
   "metadata": {},
   "outputs": [
    {
     "data": {
      "text/plain": [
       "{'ResponseMetadata': {'RequestId': 'SQ33HR8W52HT907X',\n",
       "  'HostId': 'WmnIUM7pXVeI05AihGd9zyo9SQwaySXfmuBO+h9RK5WlfEq3Y+GECAozHA71xREP9vWvLP9I5rE=',\n",
       "  'HTTPStatusCode': 200,\n",
       "  'HTTPHeaders': {'x-amz-id-2': 'WmnIUM7pXVeI05AihGd9zyo9SQwaySXfmuBO+h9RK5WlfEq3Y+GECAozHA71xREP9vWvLP9I5rE=',\n",
       "   'x-amz-request-id': 'SQ33HR8W52HT907X',\n",
       "   'date': 'Fri, 25 Feb 2022 10:59:47 GMT',\n",
       "   'content-type': 'application/xml',\n",
       "   'transfer-encoding': 'chunked',\n",
       "   'server': 'AmazonS3'},\n",
       "  'RetryAttempts': 0},\n",
       " 'Buckets': [{'Name': 'appliance-energy-data-1',\n",
       "   'CreationDate': datetime.datetime(2021, 4, 27, 10, 39, 44, tzinfo=tzutc())},\n",
       "  {'Name': 'aws-glue-scripts-348485141252-us-east-1',\n",
       "   'CreationDate': datetime.datetime(2021, 10, 13, 13, 28, 36, tzinfo=tzutc())},\n",
       "  {'Name': 'aws-glue-temporary-348485141252-us-east-1',\n",
       "   'CreationDate': datetime.datetime(2021, 10, 13, 13, 28, 37, tzinfo=tzutc())},\n",
       "  {'Name': 'dp-learning-data',\n",
       "   'CreationDate': datetime.datetime(2021, 5, 10, 11, 55, 54, tzinfo=tzutc())},\n",
       "  {'Name': 'elasticbeanstalk-eu-west-3-348485141252',\n",
       "   'CreationDate': datetime.datetime(2021, 7, 21, 2, 37, 7, tzinfo=tzutc())},\n",
       "  {'Name': 'energy-efficiency-data-1',\n",
       "   'CreationDate': datetime.datetime(2021, 4, 27, 10, 42, 21, tzinfo=tzutc())},\n",
       "  {'Name': 'gluejob-data-byods',\n",
       "   'CreationDate': datetime.datetime(2021, 9, 29, 12, 5, 17, tzinfo=tzutc())},\n",
       "  {'Name': 'gluejob-data-store',\n",
       "   'CreationDate': datetime.datetime(2021, 9, 29, 11, 52, 9, tzinfo=tzutc())},\n",
       "  {'Name': 'image-classification-1',\n",
       "   'CreationDate': datetime.datetime(2021, 4, 27, 11, 7, 14, tzinfo=tzutc())},\n",
       "  {'Name': 'insurance-data-output',\n",
       "   'CreationDate': datetime.datetime(2021, 10, 21, 13, 8, 25, tzinfo=tzutc())},\n",
       "  {'Name': 'omdena-ml-deployment',\n",
       "   'CreationDate': datetime.datetime(2021, 9, 14, 14, 9, 5, tzinfo=tzutc())},\n",
       "  {'Name': 'ourbucket1220',\n",
       "   'CreationDate': datetime.datetime(2021, 10, 2, 22, 45, 24, tzinfo=tzutc())},\n",
       "  {'Name': 'running-bucket',\n",
       "   'CreationDate': datetime.datetime(2022, 2, 25, 10, 59, 35, tzinfo=tzutc())},\n",
       "  {'Name': 'todo-serverless-ca20',\n",
       "   'CreationDate': datetime.datetime(2021, 8, 22, 20, 44, 18, tzinfo=tzutc())},\n",
       "  {'Name': 'yellow-data-extract-store',\n",
       "   'CreationDate': datetime.datetime(2021, 9, 29, 11, 41, 24, tzinfo=tzutc())},\n",
       "  {'Name': 'yellow-data2021',\n",
       "   'CreationDate': datetime.datetime(2021, 9, 28, 9, 46, 39, tzinfo=tzutc())},\n",
       "  {'Name': 'yellow-data2021-data-prep',\n",
       "   'CreationDate': datetime.datetime(2021, 9, 28, 14, 34, 16, tzinfo=tzutc())},\n",
       "  {'Name': 'yellow-data2021r',\n",
       "   'CreationDate': datetime.datetime(2021, 9, 28, 14, 21, 50, tzinfo=tzutc())}],\n",
       " 'Owner': {'DisplayName': 'talktoitopa',\n",
       "  'ID': '97a97be399aebfabea54ce4cf893ebf65f384a5a55cfd1a2a306a192192cfd4a'}}"
      ]
     },
     "execution_count": 23,
     "metadata": {},
     "output_type": "execute_result"
    }
   ],
   "source": [
    "# list buckets\n",
    "s3.list_buckets()"
   ]
  },
  {
   "cell_type": "code",
   "execution_count": 11,
   "id": "72e3e399-f160-47d6-b01f-6595542505b3",
   "metadata": {},
   "outputs": [
    {
     "data": {
      "text/plain": [
       "{'ResponseMetadata': {'RequestId': '7ZR7NA93MWSYCB66',\n",
       "  'HostId': 'ok8g0ublDve/dD83ft82yqp9Uq8oVM/oHfEQkWa+TP04RjaZFhUACSUurg70nN1wlB/oWWBu0QA=',\n",
       "  'HTTPStatusCode': 204,\n",
       "  'HTTPHeaders': {'x-amz-id-2': 'ok8g0ublDve/dD83ft82yqp9Uq8oVM/oHfEQkWa+TP04RjaZFhUACSUurg70nN1wlB/oWWBu0QA=',\n",
       "   'x-amz-request-id': '7ZR7NA93MWSYCB66',\n",
       "   'date': 'Fri, 25 Feb 2022 10:49:45 GMT',\n",
       "   'server': 'AmazonS3'},\n",
       "  'RetryAttempts': 0}}"
      ]
     },
     "execution_count": 11,
     "metadata": {},
     "output_type": "execute_result"
    }
   ],
   "source": [
    "# delete a bucket\n",
    "s3.delete_bucket(Bucket = \"running-bucket\")"
   ]
  },
  {
   "cell_type": "code",
   "execution_count": 13,
   "id": "9cb8707e-8595-4421-bdde-a95430a2e771",
   "metadata": {},
   "outputs": [
    {
     "data": {
      "text/plain": [
       "[{'Name': 'appliance-energy-data-1',\n",
       "  'CreationDate': datetime.datetime(2021, 4, 27, 10, 39, 44, tzinfo=tzutc())},\n",
       " {'Name': 'aws-glue-scripts-348485141252-us-east-1',\n",
       "  'CreationDate': datetime.datetime(2021, 10, 13, 13, 28, 36, tzinfo=tzutc())},\n",
       " {'Name': 'aws-glue-temporary-348485141252-us-east-1',\n",
       "  'CreationDate': datetime.datetime(2021, 10, 13, 13, 28, 37, tzinfo=tzutc())},\n",
       " {'Name': 'dp-learning-data',\n",
       "  'CreationDate': datetime.datetime(2021, 5, 10, 11, 55, 54, tzinfo=tzutc())},\n",
       " {'Name': 'elasticbeanstalk-eu-west-3-348485141252',\n",
       "  'CreationDate': datetime.datetime(2021, 7, 21, 2, 37, 7, tzinfo=tzutc())},\n",
       " {'Name': 'energy-efficiency-data-1',\n",
       "  'CreationDate': datetime.datetime(2021, 4, 27, 10, 42, 21, tzinfo=tzutc())},\n",
       " {'Name': 'gluejob-data-byods',\n",
       "  'CreationDate': datetime.datetime(2021, 9, 29, 12, 5, 17, tzinfo=tzutc())},\n",
       " {'Name': 'gluejob-data-store',\n",
       "  'CreationDate': datetime.datetime(2021, 9, 29, 11, 52, 9, tzinfo=tzutc())},\n",
       " {'Name': 'image-classification-1',\n",
       "  'CreationDate': datetime.datetime(2021, 4, 27, 11, 7, 14, tzinfo=tzutc())},\n",
       " {'Name': 'insurance-data-output',\n",
       "  'CreationDate': datetime.datetime(2021, 10, 21, 13, 8, 25, tzinfo=tzutc())},\n",
       " {'Name': 'omdena-ml-deployment',\n",
       "  'CreationDate': datetime.datetime(2021, 9, 14, 14, 9, 5, tzinfo=tzutc())},\n",
       " {'Name': 'ourbucket1220',\n",
       "  'CreationDate': datetime.datetime(2021, 10, 2, 22, 45, 24, tzinfo=tzutc())},\n",
       " {'Name': 'todo-serverless-ca20',\n",
       "  'CreationDate': datetime.datetime(2021, 8, 22, 20, 44, 18, tzinfo=tzutc())},\n",
       " {'Name': 'yellow-data-extract-store',\n",
       "  'CreationDate': datetime.datetime(2021, 9, 29, 11, 41, 24, tzinfo=tzutc())},\n",
       " {'Name': 'yellow-data2021',\n",
       "  'CreationDate': datetime.datetime(2021, 9, 28, 9, 46, 39, tzinfo=tzutc())},\n",
       " {'Name': 'yellow-data2021-data-prep',\n",
       "  'CreationDate': datetime.datetime(2021, 9, 28, 14, 34, 16, tzinfo=tzutc())},\n",
       " {'Name': 'yellow-data2021r',\n",
       "  'CreationDate': datetime.datetime(2021, 9, 28, 14, 21, 50, tzinfo=tzutc())}]"
      ]
     },
     "execution_count": 13,
     "metadata": {},
     "output_type": "execute_result"
    }
   ],
   "source": [
    "s3.list_buckets()['Buckets']"
   ]
  },
  {
   "cell_type": "markdown",
   "id": "c576e9c5-b2ff-425f-8f4a-3f09423405a8",
   "metadata": {
    "tags": []
   },
   "source": [
    "### Working with files on s3"
   ]
  },
  {
   "cell_type": "code",
   "execution_count": 28,
   "id": "cb4083ec-923f-48e3-9ba6-e3e2dd626675",
   "metadata": {},
   "outputs": [
    {
     "data": {
      "text/plain": [
       "[{'Name': 'appliance-energy-data-1',\n",
       "  'CreationDate': datetime.datetime(2021, 4, 27, 10, 39, 44, tzinfo=tzutc())},\n",
       " {'Name': 'aws-glue-scripts-348485141252-us-east-1',\n",
       "  'CreationDate': datetime.datetime(2021, 10, 13, 13, 28, 36, tzinfo=tzutc())},\n",
       " {'Name': 'aws-glue-temporary-348485141252-us-east-1',\n",
       "  'CreationDate': datetime.datetime(2021, 10, 13, 13, 28, 37, tzinfo=tzutc())},\n",
       " {'Name': 'dp-learning-data',\n",
       "  'CreationDate': datetime.datetime(2021, 5, 10, 11, 55, 54, tzinfo=tzutc())},\n",
       " {'Name': 'elasticbeanstalk-eu-west-3-348485141252',\n",
       "  'CreationDate': datetime.datetime(2021, 7, 21, 2, 37, 7, tzinfo=tzutc())},\n",
       " {'Name': 'energy-efficiency-data-1',\n",
       "  'CreationDate': datetime.datetime(2021, 4, 27, 10, 42, 21, tzinfo=tzutc())},\n",
       " {'Name': 'gluejob-data-byods',\n",
       "  'CreationDate': datetime.datetime(2021, 9, 29, 12, 5, 17, tzinfo=tzutc())},\n",
       " {'Name': 'gluejob-data-store',\n",
       "  'CreationDate': datetime.datetime(2021, 9, 29, 11, 52, 9, tzinfo=tzutc())},\n",
       " {'Name': 'image-classification-1',\n",
       "  'CreationDate': datetime.datetime(2021, 4, 27, 11, 7, 14, tzinfo=tzutc())},\n",
       " {'Name': 'insurance-data-output',\n",
       "  'CreationDate': datetime.datetime(2021, 10, 21, 13, 8, 25, tzinfo=tzutc())},\n",
       " {'Name': 'omdena-ml-deployment',\n",
       "  'CreationDate': datetime.datetime(2021, 9, 14, 14, 9, 5, tzinfo=tzutc())},\n",
       " {'Name': 'our-testbucket',\n",
       "  'CreationDate': datetime.datetime(2022, 2, 25, 11, 1, 10, tzinfo=tzutc())},\n",
       " {'Name': 'ourbucket1220',\n",
       "  'CreationDate': datetime.datetime(2021, 10, 2, 22, 45, 24, tzinfo=tzutc())},\n",
       " {'Name': 'running-bucket',\n",
       "  'CreationDate': datetime.datetime(2022, 2, 25, 10, 59, 35, tzinfo=tzutc())},\n",
       " {'Name': 'todo-serverless-ca20',\n",
       "  'CreationDate': datetime.datetime(2021, 8, 22, 20, 44, 18, tzinfo=tzutc())},\n",
       " {'Name': 'yellow-data-extract-store',\n",
       "  'CreationDate': datetime.datetime(2021, 9, 29, 11, 41, 24, tzinfo=tzutc())},\n",
       " {'Name': 'yellow-data2021',\n",
       "  'CreationDate': datetime.datetime(2021, 9, 28, 9, 46, 39, tzinfo=tzutc())},\n",
       " {'Name': 'yellow-data2021-data-prep',\n",
       "  'CreationDate': datetime.datetime(2021, 9, 28, 14, 34, 16, tzinfo=tzutc())},\n",
       " {'Name': 'yellow-data2021r',\n",
       "  'CreationDate': datetime.datetime(2021, 9, 28, 14, 21, 50, tzinfo=tzutc())}]"
      ]
     },
     "execution_count": 28,
     "metadata": {},
     "output_type": "execute_result"
    }
   ],
   "source": [
    "# create a bucket\n",
    "bucket = s3.create_bucket(Bucket = 'our-testbucket')\n",
    "s3.list_buckets()['Buckets']"
   ]
  },
  {
   "cell_type": "code",
   "execution_count": 35,
   "id": "b3ca950f-0b60-40e2-87d6-54e43777a7cd",
   "metadata": {},
   "outputs": [],
   "source": [
    "# upload file\n",
    "s3.upload_file(\n",
    "                Filename = 'value.jpeg',\n",
    "                Bucket = 'our-testbucket',\n",
    "                Key = 'adam_grant_qoute.jpeg'\n",
    "                )"
   ]
  },
  {
   "cell_type": "code",
   "execution_count": 37,
   "id": "c5a55480-2bb7-4ecb-ac56-aa262d151994",
   "metadata": {},
   "outputs": [],
   "source": [
    "# list objects\n",
    "response = s3.list_objects(\n",
    "                            Bucket = 'our-testbucket',\n",
    "                            MaxKeys = 2,\n",
    "                            Prefix = 'adam_grant_'\n",
    "                            )"
   ]
  },
  {
   "cell_type": "code",
   "execution_count": 42,
   "id": "8593ef78-383a-4072-85d8-eb254c8383c6",
   "metadata": {},
   "outputs": [
    {
     "name": "stdout",
     "output_type": "stream",
     "text": [
      "{'ResponseMetadata': {'RequestId': '5722WAFEJ28STF1G', 'HostId': 'UZUHoBPDk6FWQZ3++A7gJNVOeuRqQrgOGUsVgrBq2DiQcVmBBa0m9dGzDdhrfha5AOVZkjN6Rlc=', 'HTTPStatusCode': 200, 'HTTPHeaders': {'x-amz-id-2': 'UZUHoBPDk6FWQZ3++A7gJNVOeuRqQrgOGUsVgrBq2DiQcVmBBa0m9dGzDdhrfha5AOVZkjN6Rlc=', 'x-amz-request-id': '5722WAFEJ28STF1G', 'date': 'Fri, 25 Feb 2022 11:14:26 GMT', 'x-amz-bucket-region': 'us-east-1', 'content-type': 'application/xml', 'transfer-encoding': 'chunked', 'server': 'AmazonS3'}, 'RetryAttempts': 0}, 'IsTruncated': False, 'Marker': '', 'Contents': [{'Key': 'adam_grant_qoute.jpeg', 'LastModified': datetime.datetime(2022, 2, 25, 11, 10, 59, tzinfo=tzutc()), 'ETag': '\"92a5a6e1bde4c07537ce7b29ffde5ba7\"', 'Size': 145683, 'StorageClass': 'STANDARD', 'Owner': {'DisplayName': 'talktoitopa', 'ID': '97a97be399aebfabea54ce4cf893ebf65f384a5a55cfd1a2a306a192192cfd4a'}}], 'Name': 'our-testbucket', 'Prefix': 'adam_grant_', 'MaxKeys': 2, 'EncodingType': 'url'}\n"
     ]
    }
   ],
   "source": [
    "# print http response \n",
    "print(response)"
   ]
  },
  {
   "cell_type": "code",
   "execution_count": 47,
   "id": "3fc4d853-4c4a-4039-a6a7-05e1b3d73c65",
   "metadata": {},
   "outputs": [],
   "source": [
    "# download files\n",
    "s3.download_file( \n",
    "                Filename = 'adam_grant_qoute.jpeg',\n",
    "                Bucket = 'our-testbucket',\n",
    "                Key = 'adam_grant_qoute.jpeg'\n",
    "                )"
   ]
  },
  {
   "cell_type": "code",
   "execution_count": 48,
   "id": "0b61496c-6558-4539-9ab9-953d2feeb9a0",
   "metadata": {},
   "outputs": [
    {
     "data": {
      "text/plain": [
       "{'ResponseMetadata': {'RequestId': 'TCK5HNGSYAMHRNKA',\n",
       "  'HostId': 'CrAlAx8dxYb1Nu0mWhIXM9sGCcmg46Z1BRQFw7DKSGYZ1A+i21gzoNF4uNQa1c2gHMlCZ7Zl0p0=',\n",
       "  'HTTPStatusCode': 204,\n",
       "  'HTTPHeaders': {'x-amz-id-2': 'CrAlAx8dxYb1Nu0mWhIXM9sGCcmg46Z1BRQFw7DKSGYZ1A+i21gzoNF4uNQa1c2gHMlCZ7Zl0p0=',\n",
       "   'x-amz-request-id': 'TCK5HNGSYAMHRNKA',\n",
       "   'date': 'Fri, 25 Feb 2022 11:22:36 GMT',\n",
       "   'server': 'AmazonS3'},\n",
       "  'RetryAttempts': 0}}"
      ]
     },
     "execution_count": 48,
     "metadata": {},
     "output_type": "execute_result"
    }
   ],
   "source": [
    "# delete file\n",
    "s3.delete_object( \n",
    "                Bucket = 'our-testbucket',\n",
    "                Key = 'adam_grant_qoute.jpeg'\n",
    "                )"
   ]
  },
  {
   "cell_type": "code",
   "execution_count": null,
   "id": "9ac1137d-e601-4b27-964e-c74b4427f0dd",
   "metadata": {},
   "outputs": [],
   "source": []
  }
 ],
 "metadata": {
  "kernelspec": {
   "display_name": "Python 3 (ipykernel)",
   "language": "python",
   "name": "python3"
  },
  "language_info": {
   "codemirror_mode": {
    "name": "ipython",
    "version": 3
   },
   "file_extension": ".py",
   "mimetype": "text/x-python",
   "name": "python",
   "nbconvert_exporter": "python",
   "pygments_lexer": "ipython3",
   "version": "3.8.10"
  }
 },
 "nbformat": 4,
 "nbformat_minor": 5
}
