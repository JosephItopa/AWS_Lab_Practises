{
 "cells": [
  {
   "cell_type": "markdown",
   "id": "d6592d7b-d13c-4b76-aea3-895166617e3e",
   "metadata": {},
   "source": [
    "### List comprehension"
   ]
  },
  {
   "cell_type": "code",
   "execution_count": 7,
   "id": "e626ca2f-afff-4722-a3ab-d64d3e085349",
   "metadata": {},
   "outputs": [
    {
     "name": "stdout",
     "output_type": "stream",
     "text": [
      "[0, 5, 10, 15, 20, 25, 30, 35, 40, 45]\n"
     ]
    }
   ],
   "source": [
    "# with  for loop\n",
    "num = []\n",
    "for i in range(10):\n",
    "    num.append(i*5)\n",
    "print(num)"
   ]
  },
  {
   "cell_type": "code",
   "execution_count": 5,
   "id": "8af801e0-0c17-44bf-8877-d26eb0dd3376",
   "metadata": {},
   "outputs": [
    {
     "name": "stdout",
     "output_type": "stream",
     "text": [
      "[0, 5, 10, 15, 20, 25, 30, 35, 40, 45]\n"
     ]
    }
   ],
   "source": [
    "# with list comprehension\n",
    "num = [i * 5 for i in range(10)]\n",
    "print(num)"
   ]
  },
  {
   "cell_type": "code",
   "execution_count": 8,
   "id": "b9093324-5c87-43c6-9723-02df15acebbd",
   "metadata": {},
   "outputs": [
    {
     "name": "stdout",
     "output_type": "stream",
     "text": [
      "[0, 2, 4, 6, 8]\n"
     ]
    }
   ],
   "source": [
    "# even numbers using if\n",
    "even = []\n",
    "for i in range(10):\n",
    "    if i%2 == 0:\n",
    "        even.append(i)\n",
    "print(even)"
   ]
  },
  {
   "cell_type": "code",
   "execution_count": 12,
   "id": "8a74e4c6-d6f9-4a57-856c-66f8d85f9574",
   "metadata": {},
   "outputs": [
    {
     "name": "stdout",
     "output_type": "stream",
     "text": [
      "[0, 2, 4, 6, 8]\n"
     ]
    }
   ],
   "source": [
    "# using list comprehension to summarize if-for loop\n",
    "even = [i for i in range(10) if i % 2 == 0]\n",
    "print(even)"
   ]
  },
  {
   "cell_type": "code",
   "execution_count": 16,
   "id": "cf434ced-a05c-4cd9-8ab6-db8ddbdec527",
   "metadata": {},
   "outputs": [
    {
     "name": "stdout",
     "output_type": "stream",
     "text": [
      "[[0, 1, 2, 3, 4, 5, 6, 7, 8, 9], [0, 1, 2, 3, 4, 5, 6, 7, 8, 9], [0, 1, 2, 3, 4, 5, 6, 7, 8, 9], [0, 1, 2, 3, 4, 5, 6, 7, 8, 9], [0, 1, 2, 3, 4, 5, 6, 7, 8, 9]]\n"
     ]
    }
   ],
   "source": [
    "# Nested for Loops\n",
    "mat = []\n",
    "for i in range(5):\n",
    "    mat.append([])\n",
    "    for j in range(10):\n",
    "        mat[i].append(j)\n",
    "print(mat)"
   ]
  },
  {
   "cell_type": "code",
   "execution_count": 18,
   "id": "055b6b60-939b-475f-a8a0-f1ce36ae6b5b",
   "metadata": {},
   "outputs": [
    {
     "name": "stdout",
     "output_type": "stream",
     "text": [
      "[[0, 1, 2, 3, 4, 5, 6, 7, 8, 9], [0, 1, 2, 3, 4, 5, 6, 7, 8, 9], [0, 1, 2, 3, 4, 5, 6, 7, 8, 9], [0, 1, 2, 3, 4, 5, 6, 7, 8, 9], [0, 1, 2, 3, 4, 5, 6, 7, 8, 9]]\n"
     ]
    }
   ],
   "source": [
    "# using list comprehension on nested for loop\n",
    "mat = [[i for i in range(10)] for j in range(5)]\n",
    "print(mat)"
   ]
  },
  {
   "cell_type": "markdown",
   "id": "78d21463-902f-4a93-a27e-2707a9ada885",
   "metadata": {},
   "source": [
    "### Dict comprehension"
   ]
  },
  {
   "cell_type": "code",
   "execution_count": 20,
   "id": "b11a7466-6813-4f58-9871-e83aaa0bde7f",
   "metadata": {},
   "outputs": [
    {
     "name": "stdout",
     "output_type": "stream",
     "text": [
      "{0: 0, 1: 2, 2: 4, 3: 6, 4: 8, 5: 10, 6: 12, 7: 14, 8: 16, 9: 18}\n"
     ]
    }
   ],
   "source": [
    "product = {}\n",
    "for i in range(10):\n",
    "    product[i] = i*2\n",
    "print(product)"
   ]
  },
  {
   "cell_type": "code",
   "execution_count": 34,
   "id": "24a36370-57d9-4b5c-b9a2-59eab8a27e0e",
   "metadata": {},
   "outputs": [
    {
     "name": "stdout",
     "output_type": "stream",
     "text": [
      "[{0: 0}, {1: 2}, {2: 4}, {3: 6}, {4: 8}, {5: 10}, {6: 12}, {7: 14}, {8: 16}, {9: 18}]\n"
     ]
    }
   ],
   "source": [
    "product = [{i:i*2} for i in range(10)]\n",
    "print(product)"
   ]
  },
  {
   "cell_type": "code",
   "execution_count": 37,
   "id": "c9d54040-ef5e-4f65-af14-4198bdbb2313",
   "metadata": {},
   "outputs": [
    {
     "name": "stdout",
     "output_type": "stream",
     "text": [
      "{0: 0, 2: 6, 4: 12, 6: 18, 8: 24}\n"
     ]
    }
   ],
   "source": [
    "even = {}\n",
    "\n",
    "for i in range(10):\n",
    "    if i % 2 == 0:\n",
    "        even[i] = i*3\n",
    "print(even)"
   ]
  },
  {
   "cell_type": "code",
   "execution_count": 42,
   "id": "ddcb9e75-14c5-4e83-88e6-bf1c21d2c1d9",
   "metadata": {},
   "outputs": [
    {
     "name": "stdout",
     "output_type": "stream",
     "text": [
      "[{0: 0}, {2: 6}, {4: 12}, {6: 18}, {8: 24}]\n"
     ]
    }
   ],
   "source": [
    "even = [{i:i*3} for i in range(10) if i % 2 == 0]\n",
    "print(even)"
   ]
  },
  {
   "cell_type": "code",
   "execution_count": null,
   "id": "ed25b078-58dc-41be-9f19-64df0baa4a3d",
   "metadata": {},
   "outputs": [],
   "source": []
  },
  {
   "cell_type": "code",
   "execution_count": 51,
   "id": "58d85153-c933-4ae2-a9e5-adc1f125f7c6",
   "metadata": {},
   "outputs": [
    {
     "name": "stdout",
     "output_type": "stream",
     "text": [
      "{0: 'even', 1: 'odd', 2: 'even', 3: 'odd', 4: 'even', 5: 'odd', 6: 'even', 7: 'odd', 8: 'even', 9: 'odd'}\n"
     ]
    }
   ],
   "source": [
    "num = [0, 1, 2, 3, 4, 5, 6, 7, 8, 9]\n",
    "dict_ = {}\n",
    "for i in num:\n",
    "    if i % 2 == 0:\n",
    "         dict_[i] = 'even'\n",
    "    else:\n",
    "         dict_[i] = 'odd'\n",
    "        \n",
    "print(dict_)"
   ]
  },
  {
   "cell_type": "code",
   "execution_count": 59,
   "id": "33e14af1-21c5-490e-8afb-d1d60126d738",
   "metadata": {},
   "outputs": [
    {
     "name": "stdout",
     "output_type": "stream",
     "text": [
      "[{0: 'even'}, {1: 'odd'}, {2: 'even'}, {3: 'odd'}, {4: 'even'}, {5: 'odd'}, {6: 'even'}, {7: 'odd'}, {8: 'even'}, {9: 'odd'}]\n"
     ]
    }
   ],
   "source": [
    "num = [0, 1, 2, 3, 4, 5, 6, 7, 8, 9]\n",
    "dic = [{i:'even'} if i%2 == 0 else {i:'odd'} for i in num]\n",
    "print(dic)"
   ]
  },
  {
   "cell_type": "markdown",
   "id": "fe18d25a-4e7b-4be4-8dbd-c0dbf77c9dd8",
   "metadata": {},
   "source": [
    "### Set comprehension"
   ]
  },
  {
   "cell_type": "code",
   "execution_count": 60,
   "id": "0393324d-d7c9-4835-aca3-ece624afaab5",
   "metadata": {},
   "outputs": [
    {
     "name": "stdout",
     "output_type": "stream",
     "text": [
      "{0, 2, 4, 6, 8, 10, 12, 14, 16, 18}\n"
     ]
    }
   ],
   "source": [
    "product = set()\n",
    "\n",
    "for i in range(10):\n",
    "    product.add(i*2)\n",
    "print(product)"
   ]
  },
  {
   "cell_type": "code",
   "execution_count": 63,
   "id": "58ef8144-b4cc-44b9-a5a1-017a5591669b",
   "metadata": {},
   "outputs": [
    {
     "name": "stdout",
     "output_type": "stream",
     "text": [
      "{0, 2, 4, 6, 8, 10, 12, 14, 16, 18}\n"
     ]
    }
   ],
   "source": [
    "product = {i*2 for i in range(10)}\n",
    "print(product)"
   ]
  },
  {
   "cell_type": "code",
   "execution_count": 65,
   "id": "34c514e2-1067-486b-a2df-eb1139b0c06c",
   "metadata": {},
   "outputs": [
    {
     "name": "stdout",
     "output_type": "stream",
     "text": [
      "{0, 2, 4, 6, 8}\n"
     ]
    }
   ],
   "source": [
    "product = set()\n",
    "\n",
    "for i in range(10):\n",
    "    if i % 2 == 0:\n",
    "        product.add(i)\n",
    "print(product)"
   ]
  },
  {
   "cell_type": "code",
   "execution_count": 66,
   "id": "31047fe3-b31b-4a2a-a1a5-1ac5c406e617",
   "metadata": {},
   "outputs": [
    {
     "name": "stdout",
     "output_type": "stream",
     "text": [
      "{0, 2, 4, 6, 8}\n"
     ]
    }
   ],
   "source": [
    "product = {i for i in range(10) if i % 2 == 0}\n",
    "print(product)"
   ]
  },
  {
   "cell_type": "markdown",
   "id": "67a43072-2691-4e51-a730-18696ebe55ac",
   "metadata": {},
   "source": [
    "https://python.plainenglish.io/comprehensions-in-python-a244e55aa2e5#7f53"
   ]
  }
 ],
 "metadata": {
  "kernelspec": {
   "display_name": "Python 3",
   "language": "python",
   "name": "python3"
  },
  "language_info": {
   "codemirror_mode": {
    "name": "ipython",
    "version": 3
   },
   "file_extension": ".py",
   "mimetype": "text/x-python",
   "name": "python",
   "nbconvert_exporter": "python",
   "pygments_lexer": "ipython3",
   "version": "3.8.11"
  }
 },
 "nbformat": 4,
 "nbformat_minor": 5
}
