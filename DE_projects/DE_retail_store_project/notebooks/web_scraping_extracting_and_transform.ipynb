{
 "cells": [
  {
   "cell_type": "code",
   "execution_count": 1,
   "id": "0cd310c6-c045-48d8-a3ac-266d612276b1",
   "metadata": {},
   "outputs": [],
   "source": [
    "import pandas as pd\n",
    "import numpy as np"
   ]
  },
  {
   "cell_type": "code",
   "execution_count": null,
   "id": "ec87a311-b3d5-4415-86d0-3a85e94e61e3",
   "metadata": {},
   "outputs": [],
   "source": []
  },
  {
   "cell_type": "code",
   "execution_count": 2,
   "id": "92d259ee-d515-4339-9c9d-8483af92c4bb",
   "metadata": {},
   "outputs": [
    {
     "ename": "ModuleNotFoundError",
     "evalue": "No module named 'Helper'",
     "output_type": "error",
     "traceback": [
      "\u001b[0;31m---------------------------------------------------------------------------\u001b[0m",
      "\u001b[0;31mModuleNotFoundError\u001b[0m                       Traceback (most recent call last)",
      "Input \u001b[0;32mIn [2]\u001b[0m, in \u001b[0;36m<cell line: 2>\u001b[0;34m()\u001b[0m\n\u001b[1;32m      1\u001b[0m \u001b[38;5;66;03m# Import the whisky_web_scraping class\u001b[39;00m\n\u001b[0;32m----> 2\u001b[0m \u001b[38;5;28;01mfrom\u001b[39;00m \u001b[38;5;21;01mHelper\u001b[39;00m \u001b[38;5;28;01mimport\u001b[39;00m whisky_web_scraping\n\u001b[1;32m      4\u001b[0m \u001b[38;5;66;03m# Create a scraper object\u001b[39;00m\n\u001b[1;32m      5\u001b[0m scraper \u001b[38;5;241m=\u001b[39m whisky_web_scraping()\n",
      "\u001b[0;31mModuleNotFoundError\u001b[0m: No module named 'Helper'"
     ]
    }
   ],
   "source": [
    "# Import the whisky_web_scraping class\n",
    "from Helper import whisky_web_scraping\n",
    "\n",
    "# Create a scraper object\n",
    "scraper = whisky_web_scraping()\n",
    "\n",
    "# Scrape Data\n",
    "product_df = scraper.scrape_whisky(number_of_pages=5)\n",
    "\n",
    "# Export to CSV\n",
    "product_df.to_csv('whiskey_data.csv')"
   ]
  },
  {
   "cell_type": "code",
   "execution_count": null,
   "id": "9aea7ced-d4dd-4cdd-832a-2e2741a4a847",
   "metadata": {},
   "outputs": [],
   "source": []
  }
 ],
 "metadata": {
  "kernelspec": {
   "display_name": "Python 3 (ipykernel)",
   "language": "python",
   "name": "python3"
  },
  "language_info": {
   "codemirror_mode": {
    "name": "ipython",
    "version": 3
   },
   "file_extension": ".py",
   "mimetype": "text/x-python",
   "name": "python",
   "nbconvert_exporter": "python",
   "pygments_lexer": "ipython3",
   "version": "3.8.10"
  }
 },
 "nbformat": 4,
 "nbformat_minor": 5
}
